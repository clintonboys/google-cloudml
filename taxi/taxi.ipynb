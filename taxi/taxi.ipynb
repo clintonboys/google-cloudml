{
 "cells": [
  {
   "cell_type": "markdown",
   "metadata": {},
   "source": [
    "# Estimating taxi fares"
   ]
  },
  {
   "cell_type": "code",
   "execution_count": 19,
   "metadata": {
    "collapsed": false
   },
   "outputs": [
    {
     "data": {
      "text/html": [
       "\n",
       "          <script src=\"/static/components/requirejs/require.js\"></script>\n",
       "          <script>\n",
       "            requirejs.config({\n",
       "              paths: {\n",
       "                base: '/static/base',\n",
       "              },\n",
       "            });\n",
       "          </script>\n",
       "          "
      ],
      "text/plain": [
       "<IPython.core.display.HTML object>"
      ]
     },
     "metadata": {},
     "output_type": "display_data"
    }
   ],
   "source": [
    "import google.datalab.bigquery as bq\n",
    "import seaborn as sns\n",
    "import pandas as pd\n",
    "import numpy as np\n",
    "import shutil\n",
    "import itertools\n",
    "import tensorflow as tf\n",
    "from tensorflow.contrib import layers\n",
    "import tensorflow.contrib.learn as tflearn\n",
    "from tensorflow.contrib.learn.python.learn import learn_runner\n",
    "import tensorflow.contrib.metrics as metrics\n",
    "from google.datalab.ml import TensorBoard"
   ]
  },
  {
   "cell_type": "markdown",
   "metadata": {},
   "source": [
    "In this exercise we analyse a data set consisting of taxi ride data. \n",
    "\n",
    "The full data set is 1,108,779,463 rows (130GB) and is obtained from the Google BigQuery package of example datasets. \n",
    "\n",
    "We start by writing a basic query to pull a set of rows. The `FARM_FINGERPRINT` hash function allows us to sample a set of rows which will be consistent each time the query is run. "
   ]
  },
  {
   "cell_type": "code",
   "execution_count": 2,
   "metadata": {
    "collapsed": false
   },
   "outputs": [
    {
     "data": {
      "text/html": [
       "\n",
       "          <script src=\"/static/components/requirejs/require.js\"></script>\n",
       "          <script>\n",
       "            requirejs.config({\n",
       "              paths: {\n",
       "                base: '/static/base',\n",
       "              },\n",
       "            });\n",
       "          </script>\n",
       "          "
      ],
      "text/plain": [
       "<IPython.core.display.HTML object>"
      ]
     },
     "metadata": {},
     "output_type": "display_data"
    }
   ],
   "source": [
    "rawdata=\"\"\"\n",
    "SELECT\n",
    "  pickup_datetime,\n",
    "  pickup_longitude, pickup_latitude, \n",
    "  dropoff_longitude, dropoff_latitude,\n",
    "  passenger_count,\n",
    "  trip_distance,\n",
    "  tolls_amount,\n",
    "  fare_amount,\n",
    "  total_amount\n",
    "FROM\n",
    "  `nyc-tlc.yellow.trips`\n",
    "WHERE\n",
    "  MOD(ABS(FARM_FINGERPRINT(CAST(pickup_datetime AS STRING))),EVERY_N) = 1\n",
    "\"\"\""
   ]
  },
  {
   "cell_type": "code",
   "execution_count": 3,
   "metadata": {
    "collapsed": false
   },
   "outputs": [
    {
     "data": {
      "text/html": [
       "\n",
       "          <script src=\"/static/components/requirejs/require.js\"></script>\n",
       "          <script>\n",
       "            requirejs.config({\n",
       "              paths: {\n",
       "                base: '/static/base',\n",
       "              },\n",
       "            });\n",
       "          </script>\n",
       "          "
      ],
      "text/plain": [
       "<IPython.core.display.HTML object>"
      ]
     },
     "metadata": {},
     "output_type": "display_data"
    },
    {
     "name": "stdout",
     "output_type": "stream",
     "text": [
      "Our sample dataset consists of 10789 taxi rides (representing 0.001% of total)\n"
     ]
    },
    {
     "data": {
      "text/html": [
       "<div>\n",
       "<table border=\"1\" class=\"dataframe\">\n",
       "  <thead>\n",
       "    <tr style=\"text-align: right;\">\n",
       "      <th></th>\n",
       "      <th>pickup_datetime</th>\n",
       "      <th>pickup_longitude</th>\n",
       "      <th>pickup_latitude</th>\n",
       "      <th>dropoff_longitude</th>\n",
       "      <th>dropoff_latitude</th>\n",
       "      <th>passenger_count</th>\n",
       "      <th>trip_distance</th>\n",
       "      <th>tolls_amount</th>\n",
       "      <th>fare_amount</th>\n",
       "      <th>total_amount</th>\n",
       "    </tr>\n",
       "  </thead>\n",
       "  <tbody>\n",
       "    <tr>\n",
       "      <th>0</th>\n",
       "      <td>2009-09-04 21:49:30</td>\n",
       "      <td>-73.991085</td>\n",
       "      <td>40.755503</td>\n",
       "      <td>-73.991185</td>\n",
       "      <td>40.755543</td>\n",
       "      <td>1</td>\n",
       "      <td>0.0</td>\n",
       "      <td>0.0</td>\n",
       "      <td>2.5</td>\n",
       "      <td>2.5</td>\n",
       "    </tr>\n",
       "    <tr>\n",
       "      <th>1</th>\n",
       "      <td>2009-08-20 23:04:58</td>\n",
       "      <td>-73.980657</td>\n",
       "      <td>40.765322</td>\n",
       "      <td>-73.962737</td>\n",
       "      <td>40.769690</td>\n",
       "      <td>1</td>\n",
       "      <td>2.5</td>\n",
       "      <td>0.0</td>\n",
       "      <td>2.5</td>\n",
       "      <td>2.5</td>\n",
       "    </tr>\n",
       "    <tr>\n",
       "      <th>2</th>\n",
       "      <td>2009-08-31 13:27:07</td>\n",
       "      <td>-73.979360</td>\n",
       "      <td>40.735598</td>\n",
       "      <td>-73.971661</td>\n",
       "      <td>40.758827</td>\n",
       "      <td>1</td>\n",
       "      <td>1.8</td>\n",
       "      <td>0.0</td>\n",
       "      <td>2.5</td>\n",
       "      <td>2.5</td>\n",
       "    </tr>\n",
       "    <tr>\n",
       "      <th>3</th>\n",
       "      <td>2009-09-28 17:47:22</td>\n",
       "      <td>-73.984128</td>\n",
       "      <td>40.780583</td>\n",
       "      <td>-73.984141</td>\n",
       "      <td>40.780562</td>\n",
       "      <td>1</td>\n",
       "      <td>0.0</td>\n",
       "      <td>0.0</td>\n",
       "      <td>2.5</td>\n",
       "      <td>2.5</td>\n",
       "    </tr>\n",
       "    <tr>\n",
       "      <th>4</th>\n",
       "      <td>2009-07-04 08:36:00</td>\n",
       "      <td>-73.992533</td>\n",
       "      <td>40.756207</td>\n",
       "      <td>-73.992555</td>\n",
       "      <td>40.756205</td>\n",
       "      <td>1</td>\n",
       "      <td>0.0</td>\n",
       "      <td>0.0</td>\n",
       "      <td>2.5</td>\n",
       "      <td>2.5</td>\n",
       "    </tr>\n",
       "  </tbody>\n",
       "</table>\n",
       "</div>"
      ],
      "text/plain": [
       "      pickup_datetime  pickup_longitude  pickup_latitude  dropoff_longitude  \\\n",
       "0 2009-09-04 21:49:30        -73.991085        40.755503         -73.991185   \n",
       "1 2009-08-20 23:04:58        -73.980657        40.765322         -73.962737   \n",
       "2 2009-08-31 13:27:07        -73.979360        40.735598         -73.971661   \n",
       "3 2009-09-28 17:47:22        -73.984128        40.780583         -73.984141   \n",
       "4 2009-07-04 08:36:00        -73.992533        40.756207         -73.992555   \n",
       "\n",
       "   dropoff_latitude  passenger_count  trip_distance  tolls_amount  \\\n",
       "0         40.755543                1            0.0           0.0   \n",
       "1         40.769690                1            2.5           0.0   \n",
       "2         40.758827                1            1.8           0.0   \n",
       "3         40.780562                1            0.0           0.0   \n",
       "4         40.756205                1            0.0           0.0   \n",
       "\n",
       "   fare_amount  total_amount  \n",
       "0          2.5           2.5  \n",
       "1          2.5           2.5  \n",
       "2          2.5           2.5  \n",
       "3          2.5           2.5  \n",
       "4          2.5           2.5  "
      ]
     },
     "execution_count": 3,
     "metadata": {},
     "output_type": "execute_result"
    }
   ],
   "source": [
    "query=rawdata.replace(\"EVERY_N\", \"100000\")\n",
    "trips = bq.Query(query).execute().result().to_dataframe()\n",
    "print \"Our sample dataset consists of {} taxi rides (representing {}% of total)\".format(len(trips), 100.0/100000.0)\n",
    "trips[:5]"
   ]
  },
  {
   "cell_type": "markdown",
   "metadata": {},
   "source": [
    "Let's plot the most obvious two variables in the data: the trip distance and the the fare total, to look for obvious problems in the dataset. "
   ]
  },
  {
   "cell_type": "code",
   "execution_count": 7,
   "metadata": {
    "collapsed": false
   },
   "outputs": [
    {
     "data": {
      "text/html": [
       "\n",
       "          <script src=\"/static/components/requirejs/require.js\"></script>\n",
       "          <script>\n",
       "            requirejs.config({\n",
       "              paths: {\n",
       "                base: '/static/base',\n",
       "              },\n",
       "            });\n",
       "          </script>\n",
       "          "
      ],
      "text/plain": [
       "<IPython.core.display.HTML object>"
      ]
     },
     "metadata": {},
     "output_type": "display_data"
    },
    {
     "data": {
      "text/plain": [
       "[(-1, 220)]"
      ]
     },
     "execution_count": 7,
     "metadata": {},
     "output_type": "execute_result"
    },
    {
     "data": {
      "image/png": "[encoded data removed]",
      "text/plain": [
       "<matplotlib.figure.Figure at 0x7efe4cb4f690>"
      ]
     },
     "metadata": {},
     "output_type": "display_data"
    }
   ],
   "source": [
    "ax = sns.regplot(x=\"trip_distance\", y=\"fare_amount\", ci=None, truncate=True, data=trips)\n",
    "ax.set(xlim=(-1,45))\n",
    "ax.set(ylim=(-1, 220))"
   ]
  },
  {
   "cell_type": "markdown",
   "metadata": {},
   "source": [
    "We have a few obvious ways to clear the data here. Firstly, we can notice two horizontal lines in the data; we assume that these are coming from some fixed and common toll price."
   ]
  },
  {
   "cell_type": "code",
   "execution_count": 8,
   "metadata": {
    "collapsed": false
   },
   "outputs": [
    {
     "data": {
      "text/html": [
       "\n",
       "          <script src=\"/static/components/requirejs/require.js\"></script>\n",
       "          <script>\n",
       "            requirejs.config({\n",
       "              paths: {\n",
       "                base: '/static/base',\n",
       "              },\n",
       "            });\n",
       "          </script>\n",
       "          "
      ],
      "text/plain": [
       "<IPython.core.display.HTML object>"
      ]
     },
     "metadata": {},
     "output_type": "display_data"
    },
    {
     "data": {
      "text/html": [
       "<div>\n",
       "<table border=\"1\" class=\"dataframe\">\n",
       "  <thead>\n",
       "    <tr style=\"text-align: right;\">\n",
       "      <th></th>\n",
       "      <th>pickup_datetime</th>\n",
       "      <th>pickup_longitude</th>\n",
       "      <th>pickup_latitude</th>\n",
       "      <th>dropoff_longitude</th>\n",
       "      <th>dropoff_latitude</th>\n",
       "      <th>passenger_count</th>\n",
       "      <th>trip_distance</th>\n",
       "      <th>tolls_amount</th>\n",
       "      <th>fare_amount</th>\n",
       "      <th>total_amount</th>\n",
       "    </tr>\n",
       "  </thead>\n",
       "  <tbody>\n",
       "    <tr>\n",
       "      <th>5298</th>\n",
       "      <td>2014-05-20 23:09:00</td>\n",
       "      <td>-73.783898</td>\n",
       "      <td>40.648660</td>\n",
       "      <td>-73.981845</td>\n",
       "      <td>40.762872</td>\n",
       "      <td>6</td>\n",
       "      <td>18.18</td>\n",
       "      <td>5.33</td>\n",
       "      <td>52.0</td>\n",
       "      <td>69.30</td>\n",
       "    </tr>\n",
       "    <tr>\n",
       "      <th>5402</th>\n",
       "      <td>2014-05-20 23:09:00</td>\n",
       "      <td>-73.781987</td>\n",
       "      <td>40.644755</td>\n",
       "      <td>-73.921672</td>\n",
       "      <td>40.828412</td>\n",
       "      <td>1</td>\n",
       "      <td>19.08</td>\n",
       "      <td>5.33</td>\n",
       "      <td>50.5</td>\n",
       "      <td>56.83</td>\n",
       "    </tr>\n",
       "    <tr>\n",
       "      <th>5854</th>\n",
       "      <td>2014-05-20 23:09:00</td>\n",
       "      <td>-73.873210</td>\n",
       "      <td>40.774042</td>\n",
       "      <td>-73.978013</td>\n",
       "      <td>40.755800</td>\n",
       "      <td>5</td>\n",
       "      <td>10.45</td>\n",
       "      <td>5.33</td>\n",
       "      <td>30.5</td>\n",
       "      <td>36.83</td>\n",
       "    </tr>\n",
       "    <tr>\n",
       "      <th>5855</th>\n",
       "      <td>2014-05-20 23:09:00</td>\n",
       "      <td>-73.870160</td>\n",
       "      <td>40.760742</td>\n",
       "      <td>-73.980912</td>\n",
       "      <td>40.788492</td>\n",
       "      <td>4</td>\n",
       "      <td>10.37</td>\n",
       "      <td>5.33</td>\n",
       "      <td>30.5</td>\n",
       "      <td>45.91</td>\n",
       "    </tr>\n",
       "    <tr>\n",
       "      <th>5861</th>\n",
       "      <td>2014-05-20 23:09:00</td>\n",
       "      <td>-73.874445</td>\n",
       "      <td>40.774037</td>\n",
       "      <td>-73.982382</td>\n",
       "      <td>40.784930</td>\n",
       "      <td>1</td>\n",
       "      <td>9.97</td>\n",
       "      <td>5.33</td>\n",
       "      <td>30.5</td>\n",
       "      <td>44.10</td>\n",
       "    </tr>\n",
       "    <tr>\n",
       "      <th>5873</th>\n",
       "      <td>2014-05-20 23:09:00</td>\n",
       "      <td>-73.984350</td>\n",
       "      <td>40.761760</td>\n",
       "      <td>-73.859030</td>\n",
       "      <td>40.718510</td>\n",
       "      <td>2</td>\n",
       "      <td>10.04</td>\n",
       "      <td>5.33</td>\n",
       "      <td>31.5</td>\n",
       "      <td>37.83</td>\n",
       "    </tr>\n",
       "    <tr>\n",
       "      <th>5896</th>\n",
       "      <td>2014-05-20 23:09:00</td>\n",
       "      <td>-73.874567</td>\n",
       "      <td>40.774102</td>\n",
       "      <td>-73.986480</td>\n",
       "      <td>40.759202</td>\n",
       "      <td>1</td>\n",
       "      <td>11.43</td>\n",
       "      <td>5.33</td>\n",
       "      <td>37.0</td>\n",
       "      <td>54.04</td>\n",
       "    </tr>\n",
       "    <tr>\n",
       "      <th>5919</th>\n",
       "      <td>2014-05-20 23:09:00</td>\n",
       "      <td>-74.011087</td>\n",
       "      <td>40.724797</td>\n",
       "      <td>-74.026347</td>\n",
       "      <td>40.750997</td>\n",
       "      <td>1</td>\n",
       "      <td>4.09</td>\n",
       "      <td>11.00</td>\n",
       "      <td>45.0</td>\n",
       "      <td>61.00</td>\n",
       "    </tr>\n",
       "  </tbody>\n",
       "</table>\n",
       "</div>"
      ],
      "text/plain": [
       "         pickup_datetime  pickup_longitude  pickup_latitude  \\\n",
       "5298 2014-05-20 23:09:00        -73.783898        40.648660   \n",
       "5402 2014-05-20 23:09:00        -73.781987        40.644755   \n",
       "5854 2014-05-20 23:09:00        -73.873210        40.774042   \n",
       "5855 2014-05-20 23:09:00        -73.870160        40.760742   \n",
       "5861 2014-05-20 23:09:00        -73.874445        40.774037   \n",
       "5873 2014-05-20 23:09:00        -73.984350        40.761760   \n",
       "5896 2014-05-20 23:09:00        -73.874567        40.774102   \n",
       "5919 2014-05-20 23:09:00        -74.011087        40.724797   \n",
       "\n",
       "      dropoff_longitude  dropoff_latitude  passenger_count  trip_distance  \\\n",
       "5298         -73.981845         40.762872                6          18.18   \n",
       "5402         -73.921672         40.828412                1          19.08   \n",
       "5854         -73.978013         40.755800                5          10.45   \n",
       "5855         -73.980912         40.788492                4          10.37   \n",
       "5861         -73.982382         40.784930                1           9.97   \n",
       "5873         -73.859030         40.718510                2          10.04   \n",
       "5896         -73.986480         40.759202                1          11.43   \n",
       "5919         -74.026347         40.750997                1           4.09   \n",
       "\n",
       "      tolls_amount  fare_amount  total_amount  \n",
       "5298          5.33         52.0         69.30  \n",
       "5402          5.33         50.5         56.83  \n",
       "5854          5.33         30.5         36.83  \n",
       "5855          5.33         30.5         45.91  \n",
       "5861          5.33         30.5         44.10  \n",
       "5873          5.33         31.5         37.83  \n",
       "5896          5.33         37.0         54.04  \n",
       "5919         11.00         45.0         61.00  "
      ]
     },
     "execution_count": 8,
     "metadata": {},
     "output_type": "execute_result"
    }
   ],
   "source": [
    "tollrides = trips[trips['tolls_amount'] > 0]\n",
    "tollrides[tollrides['pickup_datetime'] == '2014-05-20 23:09:00'][5:]"
   ]
  },
  {
   "cell_type": "markdown",
   "metadata": {},
   "source": [
    "We can see some other issues with dirty data if we run `describe()` on the full dataset:"
   ]
  },
  {
   "cell_type": "code",
   "execution_count": 9,
   "metadata": {
    "collapsed": false
   },
   "outputs": [
    {
     "data": {
      "text/html": [
       "\n",
       "          <script src=\"/static/components/requirejs/require.js\"></script>\n",
       "          <script>\n",
       "            requirejs.config({\n",
       "              paths: {\n",
       "                base: '/static/base',\n",
       "              },\n",
       "            });\n",
       "          </script>\n",
       "          "
      ],
      "text/plain": [
       "<IPython.core.display.HTML object>"
      ]
     },
     "metadata": {},
     "output_type": "display_data"
    },
    {
     "data": {
      "text/html": [
       "<div>\n",
       "<table border=\"1\" class=\"dataframe\">\n",
       "  <thead>\n",
       "    <tr style=\"text-align: right;\">\n",
       "      <th></th>\n",
       "      <th>pickup_longitude</th>\n",
       "      <th>pickup_latitude</th>\n",
       "      <th>dropoff_longitude</th>\n",
       "      <th>dropoff_latitude</th>\n",
       "      <th>passenger_count</th>\n",
       "      <th>trip_distance</th>\n",
       "      <th>tolls_amount</th>\n",
       "      <th>fare_amount</th>\n",
       "      <th>total_amount</th>\n",
       "    </tr>\n",
       "  </thead>\n",
       "  <tbody>\n",
       "    <tr>\n",
       "      <th>count</th>\n",
       "      <td>10789.000000</td>\n",
       "      <td>10789.000000</td>\n",
       "      <td>10789.000000</td>\n",
       "      <td>10789.000000</td>\n",
       "      <td>10789.000000</td>\n",
       "      <td>10789.000000</td>\n",
       "      <td>10789.000000</td>\n",
       "      <td>10789.000000</td>\n",
       "      <td>10789.000000</td>\n",
       "    </tr>\n",
       "    <tr>\n",
       "      <th>mean</th>\n",
       "      <td>-72.577466</td>\n",
       "      <td>39.988518</td>\n",
       "      <td>-72.577056</td>\n",
       "      <td>39.991694</td>\n",
       "      <td>1.648716</td>\n",
       "      <td>2.837068</td>\n",
       "      <td>0.228359</td>\n",
       "      <td>11.165192</td>\n",
       "      <td>13.280564</td>\n",
       "    </tr>\n",
       "    <tr>\n",
       "      <th>std</th>\n",
       "      <td>10.071200</td>\n",
       "      <td>5.523964</td>\n",
       "      <td>10.068592</td>\n",
       "      <td>5.510504</td>\n",
       "      <td>1.282589</td>\n",
       "      <td>3.319036</td>\n",
       "      <td>1.144977</td>\n",
       "      <td>9.444876</td>\n",
       "      <td>11.267704</td>\n",
       "    </tr>\n",
       "    <tr>\n",
       "      <th>min</th>\n",
       "      <td>-75.336579</td>\n",
       "      <td>0.000000</td>\n",
       "      <td>-75.381754</td>\n",
       "      <td>0.000000</td>\n",
       "      <td>0.000000</td>\n",
       "      <td>0.000000</td>\n",
       "      <td>0.000000</td>\n",
       "      <td>2.500000</td>\n",
       "      <td>2.500000</td>\n",
       "    </tr>\n",
       "    <tr>\n",
       "      <th>25%</th>\n",
       "      <td>-73.992172</td>\n",
       "      <td>40.735837</td>\n",
       "      <td>-73.991581</td>\n",
       "      <td>40.734267</td>\n",
       "      <td>1.000000</td>\n",
       "      <td>1.010000</td>\n",
       "      <td>0.000000</td>\n",
       "      <td>6.000000</td>\n",
       "      <td>7.200000</td>\n",
       "    </tr>\n",
       "    <tr>\n",
       "      <th>50%</th>\n",
       "      <td>-73.981871</td>\n",
       "      <td>40.753200</td>\n",
       "      <td>-73.980401</td>\n",
       "      <td>40.752872</td>\n",
       "      <td>1.000000</td>\n",
       "      <td>1.750000</td>\n",
       "      <td>0.000000</td>\n",
       "      <td>8.500000</td>\n",
       "      <td>10.000000</td>\n",
       "    </tr>\n",
       "    <tr>\n",
       "      <th>75%</th>\n",
       "      <td>-73.967330</td>\n",
       "      <td>40.767309</td>\n",
       "      <td>-73.964102</td>\n",
       "      <td>40.767484</td>\n",
       "      <td>2.000000</td>\n",
       "      <td>3.110000</td>\n",
       "      <td>0.000000</td>\n",
       "      <td>12.500000</td>\n",
       "      <td>14.600000</td>\n",
       "    </tr>\n",
       "    <tr>\n",
       "      <th>max</th>\n",
       "      <td>0.000000</td>\n",
       "      <td>41.366138</td>\n",
       "      <td>0.000000</td>\n",
       "      <td>41.366138</td>\n",
       "      <td>6.000000</td>\n",
       "      <td>42.800000</td>\n",
       "      <td>16.000000</td>\n",
       "      <td>194.750000</td>\n",
       "      <td>204.750000</td>\n",
       "    </tr>\n",
       "  </tbody>\n",
       "</table>\n",
       "</div>"
      ],
      "text/plain": [
       "       pickup_longitude  pickup_latitude  dropoff_longitude  dropoff_latitude  \\\n",
       "count      10789.000000     10789.000000       10789.000000      10789.000000   \n",
       "mean         -72.577466        39.988518         -72.577056         39.991694   \n",
       "std           10.071200         5.523964          10.068592          5.510504   \n",
       "min          -75.336579         0.000000         -75.381754          0.000000   \n",
       "25%          -73.992172        40.735837         -73.991581         40.734267   \n",
       "50%          -73.981871        40.753200         -73.980401         40.752872   \n",
       "75%          -73.967330        40.767309         -73.964102         40.767484   \n",
       "max            0.000000        41.366138           0.000000         41.366138   \n",
       "\n",
       "       passenger_count  trip_distance  tolls_amount   fare_amount  \\\n",
       "count     10789.000000   10789.000000  10789.000000  10789.000000   \n",
       "mean          1.648716       2.837068      0.228359     11.165192   \n",
       "std           1.282589       3.319036      1.144977      9.444876   \n",
       "min           0.000000       0.000000      0.000000      2.500000   \n",
       "25%           1.000000       1.010000      0.000000      6.000000   \n",
       "50%           1.000000       1.750000      0.000000      8.500000   \n",
       "75%           2.000000       3.110000      0.000000     12.500000   \n",
       "max           6.000000      42.800000     16.000000    194.750000   \n",
       "\n",
       "       total_amount  \n",
       "count  10789.000000  \n",
       "mean      13.280564  \n",
       "std       11.267704  \n",
       "min        2.500000  \n",
       "25%        7.200000  \n",
       "50%       10.000000  \n",
       "75%       14.600000  \n",
       "max      204.750000  "
      ]
     },
     "execution_count": 9,
     "metadata": {},
     "output_type": "execute_result"
    }
   ],
   "source": [
    "trips.describe()"
   ]
  },
  {
   "cell_type": "markdown",
   "metadata": {},
   "source": [
    "We now create a query to pull three clean datasets of different sizes, training test and validation. \n",
    "\n",
    "We remove all data for\n",
    "- trips with zero distance\n",
    "- fares below $2.50\n",
    "- latitudes and longitudes outside New York City\n",
    "- trips with zero passengers\n",
    "\n",
    "And perform a `FARM_FINGERPRINT` sample followed by another hash to split the data. \n",
    "\n",
    "Note that we also remove the trip distance column as this depends on the route taken, which we do not have for new rows."
   ]
  },
  {
   "cell_type": "code",
   "execution_count": 10,
   "metadata": {
    "collapsed": false
   },
   "outputs": [
    {
     "data": {
      "text/html": [
       "\n",
       "          <script src=\"/static/components/requirejs/require.js\"></script>\n",
       "          <script>\n",
       "            requirejs.config({\n",
       "              paths: {\n",
       "                base: '/static/base',\n",
       "              },\n",
       "            });\n",
       "          </script>\n",
       "          "
      ],
      "text/plain": [
       "<IPython.core.display.HTML object>"
      ]
     },
     "metadata": {},
     "output_type": "display_data"
    },
    {
     "name": "stdout",
     "output_type": "stream",
     "text": [
      "\n",
      "SELECT\n",
      "  (tolls_amount + fare_amount) AS fare_amount,\n",
      "  pickup_longitude AS pickuplon,\n",
      "  pickup_latitude AS pickuplat,\n",
      "  dropoff_longitude AS dropofflon,\n",
      "  dropoff_latitude AS dropofflat,\n",
      "  passenger_count*1.0 AS passengers\n",
      "FROM\n",
      "  `nyc-tlc.yellow.trips`\n",
      "WHERE\n",
      "  trip_distance > 0\n",
      "  AND fare_amount >= 2.5\n",
      "  AND pickup_longitude > -78\n",
      "  AND pickup_longitude < -70\n",
      "  AND dropoff_longitude > -78\n",
      "  AND dropoff_longitude < -70\n",
      "  AND pickup_latitude > 37\n",
      "  AND pickup_latitude < 45\n",
      "  AND dropoff_latitude > 37\n",
      "  AND dropoff_latitude < 45\n",
      "  AND passenger_count > 0\n",
      "  \n",
      "AND MOD(ABS(FARM_FINGERPRINT(CAST(pickup_datetime AS STRING))),100000) = 1\n",
      "AND MOD(ABS(FARM_FINGERPRINT(CAST(pickup_datetime AS STRING))),100000*100) >= (100000*0)\n",
      " AND MOD(ABS(FARM_FINGERPRINT(CAST(pickup_datetime AS STRING))),100000*100) < (100000*70)\n"
     ]
    }
   ],
   "source": [
    "def sample_between(a, b):\n",
    "    basequery = \"\"\"\n",
    "SELECT\n",
    "  (tolls_amount + fare_amount) AS fare_amount,\n",
    "  pickup_longitude AS pickuplon,\n",
    "  pickup_latitude AS pickuplat,\n",
    "  dropoff_longitude AS dropofflon,\n",
    "  dropoff_latitude AS dropofflat,\n",
    "  passenger_count*1.0 AS passengers\n",
    "FROM\n",
    "  `nyc-tlc.yellow.trips`\n",
    "WHERE\n",
    "  trip_distance > 0\n",
    "  AND fare_amount >= 2.5\n",
    "  AND pickup_longitude > -78\n",
    "  AND pickup_longitude < -70\n",
    "  AND dropoff_longitude > -78\n",
    "  AND dropoff_longitude < -70\n",
    "  AND pickup_latitude > 37\n",
    "  AND pickup_latitude < 45\n",
    "  AND dropoff_latitude > 37\n",
    "  AND dropoff_latitude < 45\n",
    "  AND passenger_count > 0\n",
    "  \"\"\"\n",
    "    sampler = \"AND MOD(ABS(FARM_FINGERPRINT(CAST(pickup_datetime AS STRING))),EVERY_N) = 1\"\n",
    "    sampler2 = \"AND {0} >= {1}\\n AND {0} < {2}\".format(\n",
    "           \"MOD(ABS(FARM_FINGERPRINT(CAST(pickup_datetime AS STRING))),EVERY_N*100)\",\n",
    "           \"(EVERY_N*{})\".format(a), \"(EVERY_N*{})\".format(b)\n",
    "        )\n",
    "    return \"{}\\n{}\\n{}\".format(basequery, sampler, sampler2)\n",
    "\n",
    "def create_query(phase, EVERY_N):\n",
    "  \"\"\"phase: train (70%) valid (15%) or test (15%)\"\"\"\n",
    "  query = \"\"\n",
    "  if phase == 'train':\n",
    "    # training\n",
    "    query = sample_between(0, 70)\n",
    "  elif phase == 'valid':\n",
    "    query = sample_between(70, 85)\n",
    "  else:\n",
    "    query = sample_between(85, 100)\n",
    "  return query.replace(\"EVERY_N\", str(EVERY_N))\n",
    "\n",
    "print create_query('train', 100000)"
   ]
  },
  {
   "cell_type": "markdown",
   "metadata": {},
   "source": [
    "Finally, we dump the three datasets to `.csv` files where we will use them later. "
   ]
  },
  {
   "cell_type": "code",
   "execution_count": 12,
   "metadata": {
    "collapsed": false
   },
   "outputs": [
    {
     "data": {
      "text/html": [
       "\n",
       "          <script src=\"/static/components/requirejs/require.js\"></script>\n",
       "          <script>\n",
       "            requirejs.config({\n",
       "              paths: {\n",
       "                base: '/static/base',\n",
       "              },\n",
       "            });\n",
       "          </script>\n",
       "          "
      ],
      "text/plain": [
       "<IPython.core.display.HTML object>"
      ]
     },
     "metadata": {},
     "output_type": "display_data"
    },
    {
     "name": "stdout",
     "output_type": "stream",
     "text": [
      "Wrote 7645 rows to taxi-train.csv\n",
      "Wrote 1814 rows to taxi-valid.csv\n",
      "Wrote 1017 rows to taxi-test.csv\n"
     ]
    }
   ],
   "source": [
    "def to_csv(df, filename):\n",
    "  outdf = df.copy(deep=False)\n",
    "  outdf.loc[:, 'key'] = np.arange(0, len(outdf)) # rownumber as key\n",
    "  # reorder columns so that target is first column\n",
    "  cols = outdf.columns.tolist()\n",
    "  cols.remove('fare_amount')\n",
    "  cols.insert(0, 'fare_amount')\n",
    "  # print cols  # new order of columns\n",
    "  outdf = outdf[cols]\n",
    "  outdf.to_csv(filename, header=False, index_label=False, index=False)\n",
    "  print \"Wrote {} rows to {}\".format(len(outdf), filename)\n",
    "\n",
    "for phase in ['train', 'valid', 'test']:\n",
    "  query = create_query(phase, 100000)\n",
    "  df = bq.Query(query).execute().result().to_dataframe()\n",
    "  to_csv(df, 'taxi-{}.csv'.format(phase))"
   ]
  },
  {
   "cell_type": "markdown",
   "metadata": {},
   "source": [
    "Throughout this exercise we will spend considerable time comparing between different models. So a good first step is to create a very simple \"benchmark\" model which will give us some initial goal. \n",
    "\n",
    "This problem has a fairly natural benchmark: we compute the \"as the crow flies\" distance between the start and drop-off points, and multiply it by the mean fare amount. "
   ]
  },
  {
   "cell_type": "code",
   "execution_count": 13,
   "metadata": {
    "collapsed": false
   },
   "outputs": [
    {
     "data": {
      "text/html": [
       "\n",
       "          <script src=\"/static/components/requirejs/require.js\"></script>\n",
       "          <script>\n",
       "            requirejs.config({\n",
       "              paths: {\n",
       "                base: '/static/base',\n",
       "              },\n",
       "            });\n",
       "          </script>\n",
       "          "
      ],
      "text/plain": [
       "<IPython.core.display.HTML object>"
      ]
     },
     "metadata": {},
     "output_type": "display_data"
    },
    {
     "name": "stdout",
     "output_type": "stream",
     "text": [
      "Rate = $2.61647175325/km\n",
      "Train RMSE = 7.45944982351\n",
      "Valid RMSE = 9.35408256465\n",
      "Test RMSE = 5.44470804972\n"
     ]
    },
    {
     "name": "stderr",
     "output_type": "stream",
     "text": [
      "/usr/local/lib/python2.7/dist-packages/ipykernel/__main__.py:3: RuntimeWarning: invalid value encountered in arccos\n",
      "  app.launch_new_instance()\n"
     ]
    }
   ],
   "source": [
    "def distance_between(lat1, lon1, lat2, lon2):\n",
    "  # haversine formula to compute distance \"as the crow flies\".  Taxis can't fly of course.\n",
    "  dist = np.degrees(np.arccos(np.sin(np.radians(lat1)) * np.sin(np.radians(lat2)) + np.cos(np.radians(lat1)) * np.cos(np.radians(lat2)) * np.cos(np.radians(lon2 - lon1)))) * 60 * 1.515 * 1.609344\n",
    "  return dist\n",
    "\n",
    "def estimate_distance(df):\n",
    "  return distance_between(df['pickuplat'], df['pickuplon'], df['dropofflat'], df['dropofflon'])\n",
    "\n",
    "def compute_rmse(actual, predicted):\n",
    "  return np.sqrt(np.mean((actual-predicted)**2))\n",
    "\n",
    "def print_rmse(df, rate, name):\n",
    "  print \"{1} RMSE = {0}\".format(compute_rmse(df['fare_amount'], rate*estimate_distance(df)), name)\n",
    "\n",
    "FEATURES = ['pickuplon','pickuplat','dropofflon','dropofflat','passengers']\n",
    "TARGET = 'fare_amount'\n",
    "columns = list([TARGET])\n",
    "columns.extend(FEATURES) # in CSV, target is the first column, after the features\n",
    "columns.append('key')\n",
    "df_train = pd.read_csv('taxi-train.csv', header=None, names=columns)\n",
    "df_valid = pd.read_csv('taxi-valid.csv', header=None, names=columns)\n",
    "df_test = pd.read_csv('taxi-test.csv', header=None, names=columns)\n",
    "rate = df_train['fare_amount'].mean() / estimate_distance(df_train).mean()\n",
    "print \"Rate = ${0}/km\".format(rate)\n",
    "print_rmse(df_train, rate, 'Train')\n",
    "print_rmse(df_valid, rate, 'Valid') \n",
    "print_rmse(df_test, rate, 'Test') "
   ]
  },
  {
   "cell_type": "markdown",
   "metadata": {},
   "source": [
    "So we have a benchmark RMSE: 9.35. \n",
    "\n",
    "Let's take the opportunity to plot a few rides on a map:"
   ]
  },
  {
   "cell_type": "code",
   "execution_count": 15,
   "metadata": {
    "collapsed": false
   },
   "outputs": [
    {
     "data": {
      "text/html": [
       "\n",
       "          <script src=\"/static/components/requirejs/require.js\"></script>\n",
       "          <script>\n",
       "            requirejs.config({\n",
       "              paths: {\n",
       "                base: '/static/base',\n",
       "              },\n",
       "            });\n",
       "          </script>\n",
       "          "
      ],
      "text/plain": [
       "<IPython.core.display.HTML object>"
      ]
     },
     "metadata": {},
     "output_type": "display_data"
    },
    {
     "data": {
      "image/png": "[encoded data removed]",
      "text/plain": [
       "<matplotlib.figure.Figure at 0x7efe4cb87e50>"
      ]
     },
     "metadata": {},
     "output_type": "display_data"
    }
   ],
   "source": [
    "def showrides(df, numlines):\n",
    "  import matplotlib.pyplot as plt\n",
    "  lats = []\n",
    "  lons = []\n",
    "  goodrows = df[df['pickuplon'] < -70]\n",
    "  for iter, row in goodrows[:numlines].iterrows():\n",
    "    lons.append(row['pickuplon'])\n",
    "    lons.append(row['dropofflon'])\n",
    "    lons.append(None)\n",
    "    lats.append(row['pickuplat'])\n",
    "    lats.append(row['dropofflat'])\n",
    "    lats.append(None)\n",
    "\n",
    "  sns.set_style(\"darkgrid\")\n",
    "  plt.plot(lons, lats)\n",
    "  \n",
    "showrides(df_train, 50)"
   ]
  },
  {
   "cell_type": "markdown",
   "metadata": {},
   "source": [
    "We can easily load our CSV files back into Pandas:"
   ]
  },
  {
   "cell_type": "code",
   "execution_count": 16,
   "metadata": {
    "collapsed": false
   },
   "outputs": [
    {
     "data": {
      "text/html": [
       "\n",
       "          <script src=\"/static/components/requirejs/require.js\"></script>\n",
       "          <script>\n",
       "            requirejs.config({\n",
       "              paths: {\n",
       "                base: '/static/base',\n",
       "              },\n",
       "            });\n",
       "          </script>\n",
       "          "
      ],
      "text/plain": [
       "<IPython.core.display.HTML object>"
      ]
     },
     "metadata": {},
     "output_type": "display_data"
    },
    {
     "name": "stdout",
     "output_type": "stream",
     "text": [
      "   fare_amount  pickuplon  pickuplat  dropofflon  dropofflat  passengers  key\n",
      "0          2.5 -73.988954  40.758612  -73.952118   40.776227         2.0    0\n",
      "1          2.5 -73.971783  40.763727  -73.971769   40.763768         2.0    1\n",
      "2          3.0 -73.976258  40.786085  -73.974417   40.788517         2.0    2\n",
      "3          3.0 -73.990085  40.746602  -73.993129   40.747650         2.0    3\n",
      "4          3.5 -73.985820  40.744768  -73.978803   40.752505         2.0    4\n",
      "   fare_amount  pickuplon  pickuplat  dropofflon  dropofflat  passengers  key\n",
      "0          3.0 -74.009799  40.704862  -74.007660   40.707634         2.0    0\n",
      "1          4.0 -73.956932  40.770882  -73.962624   40.762970         2.0    1\n",
      "2          4.5 -73.997503  40.740958  -74.006575   40.741453         2.0    2\n",
      "3          4.5 -73.992355  40.722983  -73.986278   40.729543         2.0    3\n",
      "4          4.5 -73.990936  40.770157  -73.985336   40.778435         2.0    4\n"
     ]
    }
   ],
   "source": [
    "CSV_COLUMNS = ['fare_amount', 'pickuplon','pickuplat','dropofflon','dropofflat','passengers', 'key']\n",
    "FEATURES = CSV_COLUMNS[1:len(CSV_COLUMNS)-1]\n",
    "TARGET = CSV_COLUMNS[0]\n",
    "\n",
    "df_train = pd.read_csv('taxi-train.csv', header=None, names=CSV_COLUMNS)\n",
    "df_valid = pd.read_csv('taxi-valid.csv', header=None, names=CSV_COLUMNS)\n",
    "print df_train.head()\n",
    "print df_valid.head()"
   ]
  },
  {
   "cell_type": "markdown",
   "metadata": {},
   "source": [
    "In order to make this data useable in Tensorflow, we need to convert the dataframes to tensors, and provide an \"input function\" which calls no parameters. "
   ]
  },
  {
   "cell_type": "code",
   "execution_count": 17,
   "metadata": {
    "collapsed": false
   },
   "outputs": [
    {
     "data": {
      "text/html": [
       "\n",
       "          <script src=\"/static/components/requirejs/require.js\"></script>\n",
       "          <script>\n",
       "            requirejs.config({\n",
       "              paths: {\n",
       "                base: '/static/base',\n",
       "              },\n",
       "            });\n",
       "          </script>\n",
       "          "
      ],
      "text/plain": [
       "<IPython.core.display.HTML object>"
      ]
     },
     "metadata": {},
     "output_type": "display_data"
    }
   ],
   "source": [
    "def make_input_fn(df):\n",
    "  def pandas_to_tf(pdcol):\n",
    "    # convert the pandas column values to float\n",
    "    t = tf.constant(pdcol.astype('float32').values)\n",
    "    # take the column which is of shape (N) and make it (N, 1)\n",
    "    return tf.expand_dims(t, -1)\n",
    "  \n",
    "  def input_fn():\n",
    "    # create features, columns\n",
    "    features = {k: pandas_to_tf(df[k]) for k in FEATURES}\n",
    "    labels = tf.constant(df[TARGET].values)\n",
    "    return features, labels\n",
    "  return input_fn\n",
    "  \n",
    "def make_feature_cols():\n",
    "  input_columns = [tf.contrib.layers.real_valued_column(k) for k in FEATURES]\n",
    "  return input_columns"
   ]
  },
  {
   "cell_type": "code",
   "execution_count": 22,
   "metadata": {
    "collapsed": false
   },
   "outputs": [
    {
     "data": {
      "text/html": [
       "\n",
       "          <script src=\"/static/components/requirejs/require.js\"></script>\n",
       "          <script>\n",
       "            requirejs.config({\n",
       "              paths: {\n",
       "                base: '/static/base',\n",
       "              },\n",
       "            });\n",
       "          </script>\n",
       "          "
      ],
      "text/plain": [
       "<IPython.core.display.HTML object>"
      ]
     },
     "metadata": {},
     "output_type": "display_data"
    },
    {
     "name": "stdout",
     "output_type": "stream",
     "text": [
      "INFO:tensorflow:Using default config.\n",
      "INFO:tensorflow:Using config: {'_save_checkpoints_secs': 600, '_num_ps_replicas': 0, '_keep_checkpoint_max': 5, '_task_type': None, '_is_chief': True, '_cluster_spec': <tensorflow.python.training.server_lib.ClusterSpec object at 0x7efe50d7f0d0>, '_model_dir': 'taxi_trained', '_save_checkpoints_steps': None, '_keep_checkpoint_every_n_hours': 10000, '_session_config': None, '_tf_random_seed': None, '_environment': 'local', '_num_worker_replicas': 0, '_task_id': 0, '_save_summary_steps': 100, '_tf_config': gpu_options {\n",
      "  per_process_gpu_memory_fraction: 1.0\n",
      "}\n",
      ", '_evaluation_master': '', '_master': ''}\n",
      "WARNING:tensorflow:From /usr/local/lib/python2.7/dist-packages/tensorflow/contrib/learn/python/learn/estimators/head.py:625: scalar_summary (from tensorflow.python.ops.logging_ops) is deprecated and will be removed after 2016-11-30.\n",
      "Instructions for updating:\n",
      "Please switch to tf.summary.scalar. Note that tf.summary.scalar uses the node name instead of the tag. This means that TensorFlow will automatically de-duplicate summary names based on the scope they are created in. Also, passing a tensor or list of tags to a scalar summary op is no longer supported.\n",
      "INFO:tensorflow:Create CheckpointSaverHook.\n",
      "INFO:tensorflow:Saving checkpoints for 1 into taxi_trained/model.ckpt.\n",
      "INFO:tensorflow:loss = 227.109, step = 1\n",
      "INFO:tensorflow:Saving checkpoints for 10 into taxi_trained/model.ckpt.\n",
      "INFO:tensorflow:Loss for final step: 98.656.\n"
     ]
    }
   ],
   "source": [
    "tf.logging.set_verbosity(tf.logging.INFO)\n",
    "shutil.rmtree('taxi_trained', ignore_errors=True) # Start fresh each time by clearing the directory\n",
    "model = tf.contrib.learn.LinearRegressor(\n",
    "      feature_columns=make_feature_cols(), model_dir='taxi_trained')\n",
    "model.fit(input_fn=make_input_fn(df_train), steps=10);"
   ]
  },
  {
   "cell_type": "code",
   "execution_count": 6,
   "metadata": {
    "collapsed": false
   },
   "outputs": [
    {
     "data": {
      "text/html": [
       "\n",
       "          <script src=\"/static/components/requirejs/require.js\"></script>\n",
       "          <script>\n",
       "            requirejs.config({\n",
       "              paths: {\n",
       "                base: '/static/base',\n",
       "              },\n",
       "            });\n",
       "          </script>\n",
       "          "
      ],
      "text/plain": [
       "<IPython.core.display.HTML object>"
      ]
     },
     "metadata": {},
     "output_type": "display_data"
    },
    {
     "name": "stdout",
     "output_type": "stream",
     "text": [
      "WARNING:tensorflow:From /usr/local/lib/python2.7/dist-packages/tensorflow/contrib/learn/python/learn/estimators/head.py:625: scalar_summary (from tensorflow.python.ops.logging_ops) is deprecated and will be removed after 2016-11-30.\n",
      "Instructions for updating:\n",
      "Please switch to tf.summary.scalar. Note that tf.summary.scalar uses the node name instead of the tag. This means that TensorFlow will automatically de-duplicate summary names based on the scope they are created in. Also, passing a tensor or list of tags to a scalar summary op is no longer supported.\n",
      "INFO:tensorflow:Starting evaluation at 2017-12-03-13:37:49\n",
      "INFO:tensorflow:Restoring parameters from taxi_trained/model.ckpt-10\n",
      "INFO:tensorflow:Evaluation [1/1]\n",
      "INFO:tensorflow:Finished evaluation at 2017-12-03-13:37:49\n",
      "INFO:tensorflow:Saving dict for global step 10: global_step = 10, loss = 102.479\n",
      "RMSE on validation dataset = 10.123175621\n"
     ]
    }
   ],
   "source": [
    "def print_rmse(model, name, input_fn):\n",
    "  metrics = model.evaluate(input_fn=input_fn, steps=1)\n",
    "  print 'RMSE on {} dataset = {}'.format(name, np.sqrt(metrics['loss']))\n",
    "print_rmse(model, 'validation', make_input_fn(df_valid))"
   ]
  },
  {
   "cell_type": "code",
   "execution_count": 7,
   "metadata": {
    "collapsed": false
   },
   "outputs": [
    {
     "data": {
      "text/html": [
       "\n",
       "          <script src=\"/static/components/requirejs/require.js\"></script>\n",
       "          <script>\n",
       "            requirejs.config({\n",
       "              paths: {\n",
       "                base: '/static/base',\n",
       "              },\n",
       "            });\n",
       "          </script>\n",
       "          "
      ],
      "text/plain": [
       "<IPython.core.display.HTML object>"
      ]
     },
     "metadata": {},
     "output_type": "display_data"
    },
    {
     "name": "stdout",
     "output_type": "stream",
     "text": [
      "INFO:tensorflow:Using default config.\n",
      "INFO:tensorflow:Using config: {'_save_checkpoints_secs': 600, '_num_ps_replicas': 0, '_keep_checkpoint_max': 5, '_task_type': None, '_is_chief': True, '_cluster_spec': <tensorflow.python.training.server_lib.ClusterSpec object at 0x7f2cd1e5a390>, '_model_dir': 'taxi_trained', '_save_checkpoints_steps': None, '_keep_checkpoint_every_n_hours': 10000, '_session_config': None, '_tf_random_seed': None, '_environment': 'local', '_num_worker_replicas': 0, '_task_id': 0, '_save_summary_steps': 100, '_tf_config': gpu_options {\n",
      "  per_process_gpu_memory_fraction: 1.0\n",
      "}\n",
      ", '_evaluation_master': '', '_master': ''}\n",
      "WARNING:tensorflow:From /usr/local/lib/python2.7/dist-packages/tensorflow/python/util/deprecation.py:347: calling predict (from tensorflow.contrib.learn.python.learn.estimators.linear) with outputs=None is deprecated and will be removed after 2017-03-01.\n",
      "Instructions for updating:\n",
      "Please switch to predict_scores, or set `outputs` argument.\n",
      "INFO:tensorflow:Restoring parameters from taxi_trained/model.ckpt-10\n",
      "[11.348775, 11.349922, 11.351535, 11.348835, 11.353409]\n"
     ]
    }
   ],
   "source": [
    "\n",
    "# read saved model and use it for prediction\n",
    "model = tf.contrib.learn.LinearRegressor(\n",
    "      feature_columns=make_feature_cols(), model_dir='taxi_trained')\n",
    "preds_iter = model.predict(input_fn=make_input_fn(df_valid))\n",
    "print list(itertools.islice(preds_iter, 5)) # first 5"
   ]
  },
  {
   "cell_type": "code",
   "execution_count": 9,
   "metadata": {
    "collapsed": false
   },
   "outputs": [
    {
     "data": {
      "text/html": [
       "\n",
       "          <script src=\"/static/components/requirejs/require.js\"></script>\n",
       "          <script>\n",
       "            requirejs.config({\n",
       "              paths: {\n",
       "                base: '/static/base',\n",
       "              },\n",
       "            });\n",
       "          </script>\n",
       "          "
      ],
      "text/plain": [
       "<IPython.core.display.HTML object>"
      ]
     },
     "metadata": {},
     "output_type": "display_data"
    },
    {
     "name": "stdout",
     "output_type": "stream",
     "text": [
      "INFO:tensorflow:Using default config.\n",
      "INFO:tensorflow:Using config: {'_save_checkpoints_secs': 600, '_num_ps_replicas': 0, '_keep_checkpoint_max': 5, '_task_type': None, '_is_chief': True, '_cluster_spec': <tensorflow.python.training.server_lib.ClusterSpec object at 0x7f2cd0888c90>, '_model_dir': 'taxi_trained', '_save_checkpoints_steps': None, '_keep_checkpoint_every_n_hours': 10000, '_session_config': None, '_tf_random_seed': None, '_environment': 'local', '_num_worker_replicas': 0, '_task_id': 0, '_save_summary_steps': 100, '_tf_config': gpu_options {\n",
      "  per_process_gpu_memory_fraction: 1.0\n",
      "}\n",
      ", '_evaluation_master': '', '_master': ''}\n",
      "WARNING:tensorflow:From /usr/local/lib/python2.7/dist-packages/tensorflow/contrib/learn/python/learn/estimators/head.py:625: scalar_summary (from tensorflow.python.ops.logging_ops) is deprecated and will be removed after 2016-11-30.\n",
      "Instructions for updating:\n",
      "Please switch to tf.summary.scalar. Note that tf.summary.scalar uses the node name instead of the tag. This means that TensorFlow will automatically de-duplicate summary names based on the scope they are created in. Also, passing a tensor or list of tags to a scalar summary op is no longer supported.\n",
      "INFO:tensorflow:Create CheckpointSaverHook.\n",
      "INFO:tensorflow:Saving checkpoints for 1 into taxi_trained/model.ckpt.\n",
      "INFO:tensorflow:loss = 277.55, step = 1\n",
      "INFO:tensorflow:global_step/sec: 99.4933\n",
      "INFO:tensorflow:loss = 207.473, step = 101 (1.009 sec)\n",
      "INFO:tensorflow:global_step/sec: 104.273\n",
      "INFO:tensorflow:loss = 199.335, step = 201 (0.957 sec)\n",
      "INFO:tensorflow:global_step/sec: 109.976\n",
      "INFO:tensorflow:loss = 193.372, step = 301 (0.913 sec)\n",
      "INFO:tensorflow:global_step/sec: 103.197\n",
      "INFO:tensorflow:loss = 188.535, step = 401 (0.965 sec)\n",
      "INFO:tensorflow:global_step/sec: 111.954\n",
      "INFO:tensorflow:loss = 184.413, step = 501 (0.893 sec)\n",
      "INFO:tensorflow:global_step/sec: 98.3649\n",
      "INFO:tensorflow:loss = 180.801, step = 601 (1.018 sec)\n",
      "INFO:tensorflow:global_step/sec: 123.3\n",
      "INFO:tensorflow:loss = 177.574, step = 701 (0.809 sec)\n",
      "INFO:tensorflow:global_step/sec: 161.407\n",
      "INFO:tensorflow:loss = 174.65, step = 801 (0.620 sec)\n",
      "INFO:tensorflow:global_step/sec: 174.246\n",
      "INFO:tensorflow:loss = 171.974, step = 901 (0.574 sec)\n",
      "INFO:tensorflow:Saving checkpoints for 1000 into taxi_trained/model.ckpt.\n",
      "INFO:tensorflow:Loss for final step: 169.526.\n",
      "WARNING:tensorflow:From /usr/local/lib/python2.7/dist-packages/tensorflow/contrib/learn/python/learn/estimators/head.py:625: scalar_summary (from tensorflow.python.ops.logging_ops) is deprecated and will be removed after 2016-11-30.\n",
      "Instructions for updating:\n",
      "Please switch to tf.summary.scalar. Note that tf.summary.scalar uses the node name instead of the tag. This means that TensorFlow will automatically de-duplicate summary names based on the scope they are created in. Also, passing a tensor or list of tags to a scalar summary op is no longer supported.\n",
      "INFO:tensorflow:Starting evaluation at 2017-12-03-13:42:08\n",
      "INFO:tensorflow:Restoring parameters from taxi_trained/model.ckpt-1000\n",
      "INFO:tensorflow:Evaluation [1/1]\n",
      "INFO:tensorflow:Finished evaluation at 2017-12-03-13:42:08\n",
      "INFO:tensorflow:Saving dict for global step 1000: global_step = 1000, loss = 177.549\n",
      "RMSE on validation dataset = 13.324754715\n"
     ]
    }
   ],
   "source": [
    "tf.logging.set_verbosity(tf.logging.INFO)\n",
    "shutil.rmtree('taxi_trained', ignore_errors=True) # start fresh each time\n",
    "model = tf.contrib.learn.DNNRegressor(hidden_units=[32, 8, 2],\n",
    "      feature_columns=make_feature_cols(), model_dir='taxi_trained')\n",
    "model.fit(input_fn=make_input_fn(df_train), steps=1000);\n",
    "print_rmse(model, 'validation', make_input_fn(df_valid))"
   ]
  },
  {
   "cell_type": "code",
   "execution_count": 10,
   "metadata": {
    "collapsed": false
   },
   "outputs": [
    {
     "data": {
      "text/html": [
       "\n",
       "          <script src=\"/static/components/requirejs/require.js\"></script>\n",
       "          <script>\n",
       "            requirejs.config({\n",
       "              paths: {\n",
       "                base: '/static/base',\n",
       "              },\n",
       "            });\n",
       "          </script>\n",
       "          "
      ],
      "text/plain": [
       "<IPython.core.display.HTML object>"
      ]
     },
     "metadata": {},
     "output_type": "display_data"
    },
    {
     "name": "stdout",
     "output_type": "stream",
     "text": [
      "WARNING:tensorflow:From /usr/local/lib/python2.7/dist-packages/tensorflow/contrib/learn/python/learn/estimators/head.py:625: scalar_summary (from tensorflow.python.ops.logging_ops) is deprecated and will be removed after 2016-11-30.\n",
      "Instructions for updating:\n",
      "Please switch to tf.summary.scalar. Note that tf.summary.scalar uses the node name instead of the tag. This means that TensorFlow will automatically de-duplicate summary names based on the scope they are created in. Also, passing a tensor or list of tags to a scalar summary op is no longer supported.\n",
      "INFO:tensorflow:Starting evaluation at 2017-12-03-13:44:02\n",
      "INFO:tensorflow:Restoring parameters from taxi_trained/model.ckpt-1000\n",
      "INFO:tensorflow:Evaluation [1/1]\n",
      "INFO:tensorflow:Finished evaluation at 2017-12-03-13:44:02\n",
      "INFO:tensorflow:Saving dict for global step 1000: global_step = 1000, loss = 159.389\n",
      "RMSE on benchmark dataset = 12.6249237061\n"
     ]
    }
   ],
   "source": [
    "\n",
    "\n",
    "def create_query(phase, EVERY_N):\n",
    "  \"\"\"\n",
    "  phase: 1=train 2=valid\n",
    "  \"\"\"\n",
    "  base_query = \"\"\"\n",
    "SELECT\n",
    "  (tolls_amount + fare_amount) AS fare_amount,\n",
    "  CONCAT(STRING(pickup_datetime), STRING(pickup_longitude), STRING(pickup_latitude), STRING(dropoff_latitude), STRING(dropoff_longitude)) AS key,\n",
    "  DAYOFWEEK(pickup_datetime)*1.0 AS dayofweek,\n",
    "  HOUR(pickup_datetime)*1.0 AS hourofday,\n",
    "  pickup_longitude AS pickuplon,\n",
    "  pickup_latitude AS pickuplat,\n",
    "  dropoff_longitude AS dropofflon,\n",
    "  dropoff_latitude AS dropofflat,\n",
    "  passenger_count*1.0 AS passengers,\n",
    "FROM\n",
    "  [nyc-tlc:yellow.trips]\n",
    "WHERE\n",
    "  trip_distance > 0\n",
    "  AND fare_amount >= 2.5\n",
    "  AND pickup_longitude > -78\n",
    "  AND pickup_longitude < -70\n",
    "  AND dropoff_longitude > -78\n",
    "  AND dropoff_longitude < -70\n",
    "  AND pickup_latitude > 37\n",
    "  AND pickup_latitude < 45\n",
    "  AND dropoff_latitude > 37\n",
    "  AND dropoff_latitude < 45\n",
    "  AND passenger_count > 0\n",
    "  \"\"\"\n",
    "\n",
    "  if EVERY_N == None:\n",
    "    if phase < 2:\n",
    "      # training\n",
    "      query = \"{0} AND ABS(HASH(pickup_datetime)) % 4 < 2\".format(base_query)\n",
    "    else:\n",
    "      query = \"{0} AND ABS(HASH(pickup_datetime)) % 4 == {1}\".format(base_query, phase)\n",
    "  else:\n",
    "      query = \"{0} AND ABS(HASH(pickup_datetime)) % {1} == {2}\".format(base_query, EVERY_N, phase)\n",
    "    \n",
    "  return query\n",
    "\n",
    "\n",
    "\n",
    "query = create_query(2, 100000)\n",
    "df = bq.Query(query).to_dataframe()\n",
    "print_rmse(model, 'benchmark', make_input_fn(df))"
   ]
  },
  {
   "cell_type": "markdown",
   "metadata": {},
   "source": [
    "# Batched"
   ]
  },
  {
   "cell_type": "code",
   "execution_count": 23,
   "metadata": {
    "collapsed": false
   },
   "outputs": [
    {
     "data": {
      "text/html": [
       "\n",
       "          <script src=\"/static/components/requirejs/require.js\"></script>\n",
       "          <script>\n",
       "            requirejs.config({\n",
       "              paths: {\n",
       "                base: '/static/base',\n",
       "              },\n",
       "            });\n",
       "          </script>\n",
       "          "
      ],
      "text/plain": [
       "<IPython.core.display.HTML object>"
      ]
     },
     "metadata": {},
     "output_type": "display_data"
    }
   ],
   "source": [
    "CSV_COLUMNS = ['fare_amount', 'pickuplon','pickuplat','dropofflon','dropofflat','passengers', 'key']\n",
    "LABEL_COLUMN = 'fare_amount'\n",
    "DEFAULTS = [[0.0], [-74.0], [40.0], [-74.0], [40.7], [1.0], ['nokey']]\n",
    "\n",
    "def read_dataset(filename, num_epochs=None, batch_size=512, mode=tf.contrib.learn.ModeKeys.TRAIN):\n",
    "  def _input_fn():\n",
    "    filename_queue = tf.train.string_input_producer(\n",
    "        [filename], num_epochs=num_epochs, shuffle=True)\n",
    "    reader = tf.TextLineReader()\n",
    "    _, value = reader.read_up_to(filename_queue, num_records=batch_size)\n",
    "\n",
    "    value_column = tf.expand_dims(value, -1)\n",
    "    columns = tf.decode_csv(value_column, record_defaults=DEFAULTS)\n",
    "    features = dict(zip(CSV_COLUMNS, columns))\n",
    "    label = features.pop(LABEL_COLUMN)\n",
    "    return features, label\n",
    "\n",
    "  return _input_fn\n",
    "\n",
    "def get_train():\n",
    "  return read_dataset('taxi-train.csv', num_epochs=1000, mode=tf.contrib.learn.ModeKeys.TRAIN)\n",
    "\n",
    "def get_valid():\n",
    "  return read_dataset('taxi-valid.csv', num_epochs=1, mode=tf.contrib.learn.ModeKeys.EVAL)\n",
    "\n",
    "def get_test():\n",
    "  return read_dataset('taxi-test.csv', num_epochs=1, mode=tf.contrib.learn.ModeKeys.EVAL)"
   ]
  },
  {
   "cell_type": "code",
   "execution_count": 17,
   "metadata": {
    "collapsed": false
   },
   "outputs": [
    {
     "data": {
      "text/html": [
       "\n",
       "          <script src=\"/static/components/requirejs/require.js\"></script>\n",
       "          <script>\n",
       "            requirejs.config({\n",
       "              paths: {\n",
       "                base: '/static/base',\n",
       "              },\n",
       "            });\n",
       "          </script>\n",
       "          "
      ],
      "text/plain": [
       "<IPython.core.display.HTML object>"
      ]
     },
     "metadata": {},
     "output_type": "display_data"
    },
    {
     "name": "stdout",
     "output_type": "stream",
     "text": [
      "INFO:tensorflow:Using default config.\n",
      "INFO:tensorflow:Using config: {'_save_checkpoints_secs': 600, '_num_ps_replicas': 0, '_keep_checkpoint_max': 5, '_task_type': None, '_is_chief': True, '_cluster_spec': <tensorflow.python.training.server_lib.ClusterSpec object at 0x7f2cc409fb50>, '_model_dir': 'taxi_trained', '_save_checkpoints_steps': None, '_keep_checkpoint_every_n_hours': 10000, '_session_config': None, '_tf_random_seed': None, '_environment': 'local', '_num_worker_replicas': 0, '_task_id': 0, '_save_summary_steps': 100, '_tf_config': gpu_options {\n",
      "  per_process_gpu_memory_fraction: 1.0\n",
      "}\n",
      ", '_evaluation_master': '', '_master': ''}\n",
      "WARNING:tensorflow:From /usr/local/lib/python2.7/dist-packages/tensorflow/contrib/learn/python/learn/estimators/head.py:625: scalar_summary (from tensorflow.python.ops.logging_ops) is deprecated and will be removed after 2016-11-30.\n",
      "Instructions for updating:\n",
      "Please switch to tf.summary.scalar. Note that tf.summary.scalar uses the node name instead of the tag. This means that TensorFlow will automatically de-duplicate summary names based on the scope they are created in. Also, passing a tensor or list of tags to a scalar summary op is no longer supported.\n",
      "INFO:tensorflow:Create CheckpointSaverHook.\n",
      "INFO:tensorflow:Saving checkpoints for 1 into taxi_trained/model.ckpt.\n",
      "INFO:tensorflow:loss = 86.8652, step = 1\n",
      "INFO:tensorflow:global_step/sec: 113.845\n",
      "INFO:tensorflow:loss = 288.365, step = 101 (0.880 sec)\n",
      "INFO:tensorflow:global_step/sec: 115.039\n",
      "INFO:tensorflow:loss = 15.1444, step = 201 (0.869 sec)\n",
      "INFO:tensorflow:global_step/sec: 113.441\n",
      "INFO:tensorflow:loss = 14.3982, step = 301 (0.882 sec)\n",
      "INFO:tensorflow:global_step/sec: 112.824\n",
      "INFO:tensorflow:loss = 274.459, step = 401 (0.886 sec)\n",
      "INFO:tensorflow:global_step/sec: 112.295\n",
      "INFO:tensorflow:loss = 21.2657, step = 501 (0.891 sec)\n",
      "INFO:tensorflow:global_step/sec: 113.022\n",
      "INFO:tensorflow:loss = 17.0085, step = 601 (0.885 sec)\n",
      "INFO:tensorflow:global_step/sec: 111.744\n",
      "INFO:tensorflow:loss = 277.889, step = 701 (0.895 sec)\n",
      "INFO:tensorflow:global_step/sec: 108.249\n",
      "INFO:tensorflow:loss = 24.1616, step = 801 (0.923 sec)\n",
      "INFO:tensorflow:global_step/sec: 114.027\n",
      "INFO:tensorflow:loss = 18.6143, step = 901 (0.877 sec)\n",
      "INFO:tensorflow:global_step/sec: 113.84\n",
      "INFO:tensorflow:loss = 281.454, step = 1001 (0.880 sec)\n",
      "INFO:tensorflow:global_step/sec: 113.154\n",
      "INFO:tensorflow:loss = 26.1378, step = 1101 (0.882 sec)\n",
      "INFO:tensorflow:global_step/sec: 112.892\n",
      "INFO:tensorflow:loss = 19.5421, step = 1201 (0.887 sec)\n",
      "INFO:tensorflow:global_step/sec: 112.894\n",
      "INFO:tensorflow:loss = 284.223, step = 1301 (0.884 sec)\n",
      "INFO:tensorflow:global_step/sec: 112.503\n",
      "INFO:tensorflow:loss = 27.6206, step = 1401 (0.889 sec)\n",
      "INFO:tensorflow:Saving checkpoints for 1500 into taxi_trained/model.ckpt.\n",
      "INFO:tensorflow:Loss for final step: 30.1994.\n",
      "WARNING:tensorflow:From /usr/local/lib/python2.7/dist-packages/tensorflow/contrib/learn/python/learn/estimators/head.py:625: scalar_summary (from tensorflow.python.ops.logging_ops) is deprecated and will be removed after 2016-11-30.\n",
      "Instructions for updating:\n",
      "Please switch to tf.summary.scalar. Note that tf.summary.scalar uses the node name instead of the tag. This means that TensorFlow will automatically de-duplicate summary names based on the scope they are created in. Also, passing a tensor or list of tags to a scalar summary op is no longer supported.\n",
      "INFO:tensorflow:Starting evaluation at 2017-12-03-14:38:02\n",
      "INFO:tensorflow:Restoring parameters from taxi_trained/model.ckpt-1500\n",
      "INFO:tensorflow:Evaluation [1/1]\n",
      "INFO:tensorflow:Finished evaluation at 2017-12-03-14:38:02\n",
      "INFO:tensorflow:Saving dict for global step 1500: global_step = 1500, loss = 101.879\n",
      "RMSE on validation dataset = 10.0935268402\n"
     ]
    }
   ],
   "source": [
    "\n",
    "LABEL_COLUMN = 'fare_amount'\n",
    "INPUT_COLUMNS = [\n",
    "    layers.real_valued_column('pickuplon'),\n",
    "    layers.real_valued_column('pickuplat'),\n",
    "    layers.real_valued_column('dropofflat'),\n",
    "    layers.real_valued_column('dropofflon'),\n",
    "    layers.real_valued_column('passengers'),\n",
    "]\n",
    "\n",
    "feature_cols = INPUT_COLUMNS\n",
    "tf.logging.set_verbosity(tf.logging.INFO)\n",
    "shutil.rmtree('taxi_trained', ignore_errors=True) # start fresh each time\n",
    "model = tf.contrib.learn.LinearRegressor(\n",
    "      feature_columns=feature_cols, model_dir='taxi_trained')\n",
    "model.fit(input_fn=get_train())\n",
    "def print_rmse(model, name, input_fn):\n",
    "  metrics = model.evaluate(input_fn=input_fn, steps=1)\n",
    "  print 'RMSE on {} dataset = {}'.format(name, np.sqrt(metrics['loss']))\n",
    "print_rmse(model, 'validation', get_valid())"
   ]
  },
  {
   "cell_type": "code",
   "execution_count": 24,
   "metadata": {
    "collapsed": false
   },
   "outputs": [
    {
     "data": {
      "text/html": [
       "\n",
       "          <script src=\"/static/components/requirejs/require.js\"></script>\n",
       "          <script>\n",
       "            requirejs.config({\n",
       "              paths: {\n",
       "                base: '/static/base',\n",
       "              },\n",
       "            });\n",
       "          </script>\n",
       "          "
      ],
      "text/plain": [
       "<IPython.core.display.HTML object>"
      ]
     },
     "metadata": {},
     "output_type": "display_data"
    },
    {
     "name": "stdout",
     "output_type": "stream",
     "text": [
      "INFO:tensorflow:Using default config.\n",
      "INFO:tensorflow:Using config: {'_save_checkpoints_secs': 600, '_num_ps_replicas': 0, '_keep_checkpoint_max': 5, '_task_type': None, '_is_chief': True, '_cluster_spec': <tensorflow.python.training.server_lib.ClusterSpec object at 0x7f2cc44c1d50>, '_model_dir': 'taxi_trained', '_save_checkpoints_steps': None, '_keep_checkpoint_every_n_hours': 10000, '_session_config': None, '_tf_random_seed': None, '_environment': 'local', '_num_worker_replicas': 0, '_task_id': 0, '_save_summary_steps': 100, '_tf_config': gpu_options {\n",
      "  per_process_gpu_memory_fraction: 1.0\n",
      "}\n",
      ", '_evaluation_master': '', '_master': ''}\n",
      "WARNING:tensorflow:From /usr/local/lib/python2.7/dist-packages/tensorflow/contrib/learn/python/learn/monitors.py:268: __init__ (from tensorflow.contrib.learn.python.learn.monitors) is deprecated and will be removed after 2016-12-05.\n",
      "Instructions for updating:\n",
      "Monitors are deprecated. Please use tf.train.SessionRunHook.\n",
      "WARNING:tensorflow:From /usr/local/lib/python2.7/dist-packages/tensorflow/contrib/learn/python/learn/estimators/head.py:625: scalar_summary (from tensorflow.python.ops.logging_ops) is deprecated and will be removed after 2016-11-30.\n",
      "Instructions for updating:\n",
      "Please switch to tf.summary.scalar. Note that tf.summary.scalar uses the node name instead of the tag. This means that TensorFlow will automatically de-duplicate summary names based on the scope they are created in. Also, passing a tensor or list of tags to a scalar summary op is no longer supported.\n",
      "INFO:tensorflow:Create CheckpointSaverHook.\n",
      "INFO:tensorflow:Saving checkpoints for 1 into taxi_trained/model.ckpt.\n",
      "INFO:tensorflow:loss = 86.8652, step = 1\n",
      "WARNING:tensorflow:From /usr/local/lib/python2.7/dist-packages/tensorflow/contrib/learn/python/learn/estimators/head.py:625: scalar_summary (from tensorflow.python.ops.logging_ops) is deprecated and will be removed after 2016-11-30.\n",
      "Instructions for updating:\n",
      "Please switch to tf.summary.scalar. Note that tf.summary.scalar uses the node name instead of the tag. This means that TensorFlow will automatically de-duplicate summary names based on the scope they are created in. Also, passing a tensor or list of tags to a scalar summary op is no longer supported.\n",
      "INFO:tensorflow:Starting evaluation at 2017-12-03-14:42:40\n",
      "INFO:tensorflow:Restoring parameters from taxi_trained/model.ckpt-1\n",
      "INFO:tensorflow:Evaluation [1/100]\n",
      "INFO:tensorflow:Evaluation [2/100]\n",
      "INFO:tensorflow:Evaluation [3/100]\n",
      "INFO:tensorflow:Evaluation [4/100]\n",
      "INFO:tensorflow:Finished evaluation at 2017-12-03-14:42:40\n",
      "INFO:tensorflow:Saving dict for global step 1: global_step = 1, loss = 1324.06, rmse = 36.2815\n",
      "INFO:tensorflow:Validation (step 1): loss = 1324.06, global_step = 1, rmse = 36.2815\n",
      "INFO:tensorflow:global_step/sec: 72.4397\n",
      "INFO:tensorflow:loss = 288.365, step = 101 (1.382 sec)\n",
      "INFO:tensorflow:global_step/sec: 88.4001\n",
      "INFO:tensorflow:loss = 15.1444, step = 201 (1.131 sec)\n",
      "INFO:tensorflow:global_step/sec: 87.3476\n",
      "INFO:tensorflow:loss = 14.3982, step = 301 (1.145 sec)\n",
      "INFO:tensorflow:global_step/sec: 87.8867\n",
      "INFO:tensorflow:loss = 274.459, step = 401 (1.138 sec)\n",
      "INFO:tensorflow:global_step/sec: 86.5043\n",
      "INFO:tensorflow:loss = 21.2657, step = 501 (1.156 sec)\n",
      "INFO:tensorflow:global_step/sec: 92.0676\n",
      "INFO:tensorflow:loss = 17.0085, step = 601 (1.086 sec)\n",
      "INFO:tensorflow:global_step/sec: 91.6565\n",
      "INFO:tensorflow:loss = 277.889, step = 701 (1.091 sec)\n",
      "INFO:tensorflow:global_step/sec: 90.3272\n",
      "INFO:tensorflow:loss = 24.1616, step = 801 (1.107 sec)\n",
      "INFO:tensorflow:global_step/sec: 87.933\n",
      "INFO:tensorflow:loss = 18.6143, step = 901 (1.137 sec)\n",
      "INFO:tensorflow:global_step/sec: 88.0708\n",
      "INFO:tensorflow:loss = 281.454, step = 1001 (1.135 sec)\n",
      "INFO:tensorflow:global_step/sec: 88.3895\n",
      "INFO:tensorflow:loss = 26.1378, step = 1101 (1.131 sec)\n",
      "INFO:tensorflow:global_step/sec: 86.0606\n",
      "INFO:tensorflow:loss = 19.5421, step = 1201 (1.164 sec)\n",
      "INFO:tensorflow:global_step/sec: 88.3211\n",
      "INFO:tensorflow:loss = 284.223, step = 1301 (1.131 sec)\n",
      "INFO:tensorflow:global_step/sec: 88.9023\n",
      "INFO:tensorflow:loss = 27.6206, step = 1401 (1.125 sec)\n",
      "INFO:tensorflow:global_step/sec: 86.4862\n",
      "INFO:tensorflow:loss = 20.0901, step = 1501 (1.156 sec)\n",
      "INFO:tensorflow:global_step/sec: 92.3839\n",
      "INFO:tensorflow:loss = 286.326, step = 1601 (1.083 sec)\n",
      "INFO:tensorflow:global_step/sec: 89.049\n",
      "INFO:tensorflow:loss = 28.7664, step = 1701 (1.122 sec)\n",
      "INFO:tensorflow:global_step/sec: 87.4336\n",
      "INFO:tensorflow:loss = 20.4254, step = 1801 (1.144 sec)\n",
      "INFO:tensorflow:global_step/sec: 87.8349\n",
      "INFO:tensorflow:loss = 287.946, step = 1901 (1.139 sec)\n",
      "INFO:tensorflow:global_step/sec: 88.5169\n",
      "INFO:tensorflow:loss = 29.6663, step = 2001 (1.131 sec)\n",
      "INFO:tensorflow:global_step/sec: 88.6386\n",
      "INFO:tensorflow:loss = 20.6375, step = 2101 (1.127 sec)\n",
      "INFO:tensorflow:global_step/sec: 87.7524\n",
      "INFO:tensorflow:loss = 289.222, step = 2201 (1.140 sec)\n",
      "INFO:tensorflow:global_step/sec: 89.4952\n",
      "INFO:tensorflow:loss = 30.3827, step = 2301 (1.117 sec)\n",
      "INFO:tensorflow:global_step/sec: 91.0938\n",
      "INFO:tensorflow:loss = 20.7753, step = 2401 (1.099 sec)\n",
      "INFO:tensorflow:global_step/sec: 88.7831\n",
      "INFO:tensorflow:loss = 290.249, step = 2501 (1.124 sec)\n",
      "INFO:tensorflow:global_step/sec: 90.006\n",
      "INFO:tensorflow:loss = 30.9603, step = 2601 (1.112 sec)\n",
      "INFO:tensorflow:global_step/sec: 92.389\n",
      "INFO:tensorflow:loss = 20.8666, step = 2701 (1.082 sec)\n",
      "INFO:tensorflow:global_step/sec: 90.6613\n",
      "INFO:tensorflow:loss = 291.091, step = 2801 (1.103 sec)\n",
      "INFO:tensorflow:global_step/sec: 89.3316\n",
      "INFO:tensorflow:loss = 31.4315, step = 2901 (1.119 sec)\n",
      "INFO:tensorflow:global_step/sec: 87.4339\n",
      "INFO:tensorflow:loss = 20.9275, step = 3001 (1.144 sec)\n",
      "INFO:tensorflow:global_step/sec: 87.7871\n",
      "INFO:tensorflow:loss = 291.794, step = 3101 (1.139 sec)\n",
      "INFO:tensorflow:global_step/sec: 87.9073\n",
      "INFO:tensorflow:loss = 31.8204, step = 3201 (1.138 sec)\n",
      "INFO:tensorflow:global_step/sec: 89.0807\n",
      "INFO:tensorflow:loss = 20.9683, step = 3301 (1.123 sec)\n",
      "INFO:tensorflow:global_step/sec: 88.0541\n",
      "INFO:tensorflow:loss = 292.389, step = 3401 (1.136 sec)\n",
      "INFO:tensorflow:global_step/sec: 87.4382\n",
      "INFO:tensorflow:loss = 32.1447, step = 3501 (1.143 sec)\n",
      "INFO:tensorflow:global_step/sec: 88.3705\n",
      "INFO:tensorflow:loss = 20.9951, step = 3601 (1.132 sec)\n",
      "INFO:tensorflow:global_step/sec: 88.7145\n",
      "INFO:tensorflow:loss = 292.899, step = 3701 (1.127 sec)\n",
      "INFO:tensorflow:global_step/sec: 88.1988\n",
      "INFO:tensorflow:loss = 32.4179, step = 3801 (1.134 sec)\n",
      "INFO:tensorflow:global_step/sec: 86.9391\n",
      "INFO:tensorflow:loss = 21.0122, step = 3901 (1.151 sec)\n",
      "INFO:tensorflow:global_step/sec: 86.586\n",
      "INFO:tensorflow:loss = 293.341, step = 4001 (1.157 sec)\n",
      "INFO:tensorflow:global_step/sec: 88.3528\n",
      "INFO:tensorflow:loss = 32.6499, step = 4101 (1.130 sec)\n",
      "INFO:tensorflow:global_step/sec: 87.6029\n",
      "INFO:tensorflow:loss = 21.0223, step = 4201 (1.142 sec)\n",
      "INFO:tensorflow:global_step/sec: 89.1012\n",
      "INFO:tensorflow:loss = 293.729, step = 4301 (1.123 sec)\n",
      "INFO:tensorflow:global_step/sec: 87.0317\n",
      "INFO:tensorflow:loss = 32.8488, step = 4401 (1.148 sec)\n",
      "INFO:tensorflow:global_step/sec: 89.1135\n",
      "INFO:tensorflow:loss = 21.0273, step = 4501 (1.122 sec)\n",
      "INFO:tensorflow:global_step/sec: 84.9826\n",
      "INFO:tensorflow:loss = 294.071, step = 4601 (1.177 sec)\n",
      "INFO:tensorflow:global_step/sec: 88.242\n",
      "INFO:tensorflow:loss = 33.0206, step = 4701 (1.135 sec)\n",
      "INFO:tensorflow:global_step/sec: 87.8739\n",
      "INFO:tensorflow:loss = 21.0285, step = 4801 (1.137 sec)\n",
      "INFO:tensorflow:global_step/sec: 85.9453\n",
      "INFO:tensorflow:loss = 294.375, step = 4901 (1.164 sec)\n",
      "INFO:tensorflow:global_step/sec: 88.5022\n",
      "INFO:tensorflow:loss = 33.1698, step = 5001 (1.129 sec)\n",
      "INFO:tensorflow:global_step/sec: 86.5335\n",
      "INFO:tensorflow:loss = 21.027, step = 5101 (1.156 sec)\n",
      "INFO:tensorflow:global_step/sec: 85.2504\n",
      "INFO:tensorflow:loss = 294.648, step = 5201 (1.173 sec)\n",
      "INFO:tensorflow:global_step/sec: 89.6679\n",
      "INFO:tensorflow:loss = 33.3005, step = 5301 (1.115 sec)\n",
      "INFO:tensorflow:global_step/sec: 91.6046\n",
      "INFO:tensorflow:loss = 21.0234, step = 5401 (1.091 sec)\n",
      "INFO:tensorflow:global_step/sec: 91.2194\n",
      "INFO:tensorflow:loss = 294.894, step = 5501 (1.097 sec)\n",
      "INFO:tensorflow:global_step/sec: 89.9654\n",
      "INFO:tensorflow:loss = 33.4155, step = 5601 (1.110 sec)\n",
      "INFO:tensorflow:global_step/sec: 89.9403\n",
      "INFO:tensorflow:loss = 21.0182, step = 5701 (1.113 sec)\n",
      "INFO:tensorflow:global_step/sec: 87.1246\n",
      "INFO:tensorflow:loss = 295.116, step = 5801 (1.148 sec)\n",
      "INFO:tensorflow:global_step/sec: 87.3578\n",
      "INFO:tensorflow:loss = 33.5173, step = 5901 (1.144 sec)\n",
      "INFO:tensorflow:global_step/sec: 88.8744\n",
      "INFO:tensorflow:loss = 21.0118, step = 6001 (1.125 sec)\n",
      "INFO:tensorflow:global_step/sec: 88.1461\n",
      "INFO:tensorflow:loss = 295.319, step = 6101 (1.135 sec)\n",
      "INFO:tensorflow:global_step/sec: 87.5759\n",
      "INFO:tensorflow:loss = 33.6078, step = 6201 (1.142 sec)\n",
      "INFO:tensorflow:global_step/sec: 90.6718\n",
      "INFO:tensorflow:loss = 21.0046, step = 6301 (1.104 sec)\n",
      "INFO:tensorflow:global_step/sec: 87.2063\n",
      "INFO:tensorflow:loss = 295.504, step = 6401 (1.145 sec)\n",
      "INFO:tensorflow:global_step/sec: 90.1411\n",
      "INFO:tensorflow:loss = 33.6887, step = 6501 (1.109 sec)\n",
      "INFO:tensorflow:global_step/sec: 90.2423\n",
      "INFO:tensorflow:loss = 20.9967, step = 6601 (1.108 sec)\n",
      "INFO:tensorflow:global_step/sec: 88.6463\n",
      "INFO:tensorflow:loss = 295.674, step = 6701 (1.128 sec)\n",
      "INFO:tensorflow:global_step/sec: 87.9583\n",
      "INFO:tensorflow:loss = 33.7613, step = 6801 (1.137 sec)\n",
      "INFO:tensorflow:global_step/sec: 90.3777\n",
      "INFO:tensorflow:loss = 20.9883, step = 6901 (1.106 sec)\n",
      "INFO:tensorflow:global_step/sec: 86.7491\n",
      "INFO:tensorflow:loss = 295.831, step = 7001 (1.153 sec)\n",
      "INFO:tensorflow:global_step/sec: 87.9907\n",
      "INFO:tensorflow:loss = 33.8267, step = 7101 (1.137 sec)\n",
      "INFO:tensorflow:global_step/sec: 87.4366\n",
      "INFO:tensorflow:loss = 20.9795, step = 7201 (1.144 sec)\n",
      "INFO:tensorflow:global_step/sec: 86.3176\n",
      "INFO:tensorflow:loss = 295.976, step = 7301 (1.158 sec)\n",
      "INFO:tensorflow:global_step/sec: 86.137\n",
      "INFO:tensorflow:loss = 33.8858, step = 7401 (1.161 sec)\n",
      "INFO:tensorflow:global_step/sec: 89.1668\n",
      "INFO:tensorflow:loss = 20.9706, step = 7501 (1.121 sec)\n",
      "INFO:tensorflow:global_step/sec: 85.8602\n",
      "INFO:tensorflow:loss = 296.11, step = 7601 (1.164 sec)\n",
      "INFO:tensorflow:global_step/sec: 92.3024\n",
      "INFO:tensorflow:loss = 33.9394, step = 7701 (1.084 sec)\n",
      "INFO:tensorflow:global_step/sec: 89.5405\n",
      "INFO:tensorflow:loss = 20.9614, step = 7801 (1.117 sec)\n",
      "INFO:tensorflow:global_step/sec: 90.5057\n",
      "INFO:tensorflow:loss = 296.235, step = 7901 (1.105 sec)\n",
      "INFO:tensorflow:global_step/sec: 86.8747\n",
      "INFO:tensorflow:loss = 33.9882, step = 8001 (1.151 sec)\n",
      "INFO:tensorflow:global_step/sec: 90.9522\n",
      "INFO:tensorflow:loss = 20.9522, step = 8101 (1.100 sec)\n",
      "INFO:tensorflow:global_step/sec: 89.6338\n",
      "INFO:tensorflow:loss = 296.352, step = 8201 (1.115 sec)\n",
      "INFO:tensorflow:global_step/sec: 89.7265\n",
      "INFO:tensorflow:loss = 34.0327, step = 8301 (1.115 sec)\n",
      "INFO:tensorflow:global_step/sec: 86.8815\n",
      "INFO:tensorflow:loss = 20.9429, step = 8401 (1.150 sec)\n",
      "INFO:tensorflow:global_step/sec: 89.1471\n",
      "INFO:tensorflow:loss = 296.461, step = 8501 (1.122 sec)\n",
      "INFO:tensorflow:global_step/sec: 87.3135\n",
      "INFO:tensorflow:loss = 34.0734, step = 8601 (1.146 sec)\n",
      "INFO:tensorflow:global_step/sec: 90.9638\n",
      "INFO:tensorflow:loss = 20.9336, step = 8701 (1.099 sec)\n",
      "INFO:tensorflow:global_step/sec: 89.646\n",
      "INFO:tensorflow:loss = 296.563, step = 8801 (1.115 sec)\n",
      "INFO:tensorflow:global_step/sec: 87.4285\n",
      "INFO:tensorflow:loss = 34.1108, step = 8901 (1.144 sec)\n",
      "INFO:tensorflow:global_step/sec: 89.1542\n",
      "INFO:tensorflow:loss = 20.9244, step = 9001 (1.121 sec)\n",
      "INFO:tensorflow:global_step/sec: 86.4869\n",
      "INFO:tensorflow:loss = 296.659, step = 9101 (1.156 sec)\n",
      "INFO:tensorflow:global_step/sec: 89.4844\n",
      "INFO:tensorflow:loss = 34.1451, step = 9201 (1.118 sec)\n",
      "INFO:tensorflow:global_step/sec: 88.9889\n",
      "INFO:tensorflow:loss = 20.9152, step = 9301 (1.123 sec)\n",
      "INFO:tensorflow:global_step/sec: 90.777\n",
      "INFO:tensorflow:loss = 296.749, step = 9401 (1.102 sec)\n",
      "INFO:tensorflow:global_step/sec: 88.5006\n",
      "INFO:tensorflow:loss = 34.1768, step = 9501 (1.130 sec)\n",
      "INFO:tensorflow:global_step/sec: 89.8742\n",
      "INFO:tensorflow:loss = 20.9061, step = 9601 (1.112 sec)\n",
      "INFO:tensorflow:global_step/sec: 87.4955\n",
      "INFO:tensorflow:loss = 296.834, step = 9701 (1.143 sec)\n",
      "INFO:tensorflow:global_step/sec: 86.6211\n",
      "INFO:tensorflow:loss = 34.206, step = 9801 (1.154 sec)\n",
      "INFO:tensorflow:global_step/sec: 86.7555\n",
      "INFO:tensorflow:loss = 20.8971, step = 9901 (1.152 sec)\n",
      "INFO:tensorflow:global_step/sec: 88.8435\n",
      "INFO:tensorflow:loss = 296.914, step = 10001 (1.126 sec)\n",
      "INFO:tensorflow:global_step/sec: 90.2807\n",
      "INFO:tensorflow:loss = 34.233, step = 10101 (1.109 sec)\n",
      "INFO:tensorflow:global_step/sec: 89.2824\n",
      "INFO:tensorflow:loss = 20.8882, step = 10201 (1.118 sec)\n",
      "INFO:tensorflow:global_step/sec: 88.967\n",
      "INFO:tensorflow:loss = 296.99, step = 10301 (1.124 sec)\n",
      "INFO:tensorflow:global_step/sec: 90.6233\n",
      "INFO:tensorflow:loss = 34.258, step = 10401 (1.104 sec)\n",
      "INFO:tensorflow:global_step/sec: 89.1418\n",
      "INFO:tensorflow:loss = 20.8794, step = 10501 (1.122 sec)\n",
      "INFO:tensorflow:global_step/sec: 88.5673\n",
      "INFO:tensorflow:loss = 297.062, step = 10601 (1.129 sec)\n",
      "INFO:tensorflow:global_step/sec: 87.4815\n",
      "INFO:tensorflow:loss = 34.2812, step = 10701 (1.144 sec)\n",
      "INFO:tensorflow:global_step/sec: 90.3723\n",
      "INFO:tensorflow:loss = 20.8707, step = 10801 (1.105 sec)\n",
      "INFO:tensorflow:global_step/sec: 90.3932\n",
      "INFO:tensorflow:loss = 297.13, step = 10901 (1.107 sec)\n",
      "INFO:tensorflow:global_step/sec: 89.2948\n",
      "INFO:tensorflow:loss = 34.3028, step = 11001 (1.120 sec)\n",
      "INFO:tensorflow:global_step/sec: 93.1792\n",
      "INFO:tensorflow:loss = 20.8622, step = 11101 (1.074 sec)\n",
      "INFO:tensorflow:global_step/sec: 94.8591\n",
      "INFO:tensorflow:loss = 297.195, step = 11201 (1.053 sec)\n",
      "INFO:tensorflow:global_step/sec: 87.4925\n",
      "INFO:tensorflow:loss = 34.3229, step = 11301 (1.143 sec)\n",
      "INFO:tensorflow:global_step/sec: 89.6511\n",
      "INFO:tensorflow:loss = 20.8538, step = 11401 (1.115 sec)\n",
      "INFO:tensorflow:global_step/sec: 88.0239\n",
      "INFO:tensorflow:loss = 297.257, step = 11501 (1.136 sec)\n",
      "INFO:tensorflow:global_step/sec: 87.7655\n",
      "INFO:tensorflow:loss = 34.3417, step = 11601 (1.139 sec)\n",
      "INFO:tensorflow:global_step/sec: 90.1983\n",
      "INFO:tensorflow:loss = 20.8455, step = 11701 (1.109 sec)\n",
      "INFO:tensorflow:global_step/sec: 90.4949\n",
      "INFO:tensorflow:loss = 297.316, step = 11801 (1.105 sec)\n",
      "INFO:tensorflow:global_step/sec: 86.5964\n",
      "INFO:tensorflow:loss = 34.3592, step = 11901 (1.155 sec)\n",
      "INFO:tensorflow:global_step/sec: 87.2322\n",
      "INFO:tensorflow:loss = 20.8373, step = 12001 (1.146 sec)\n",
      "INFO:tensorflow:global_step/sec: 87.339\n",
      "INFO:tensorflow:loss = 297.372, step = 12101 (1.146 sec)\n",
      "INFO:tensorflow:global_step/sec: 90.736\n",
      "INFO:tensorflow:loss = 34.3755, step = 12201 (1.101 sec)\n",
      "INFO:tensorflow:global_step/sec: 88.4893\n",
      "INFO:tensorflow:loss = 20.8293, step = 12301 (1.130 sec)\n",
      "INFO:tensorflow:global_step/sec: 87.3407\n",
      "INFO:tensorflow:loss = 297.425, step = 12401 (1.145 sec)\n",
      "INFO:tensorflow:global_step/sec: 89.0932\n",
      "INFO:tensorflow:loss = 34.3909, step = 12501 (1.123 sec)\n",
      "INFO:tensorflow:global_step/sec: 87.4002\n",
      "INFO:tensorflow:loss = 20.8214, step = 12601 (1.144 sec)\n",
      "INFO:tensorflow:global_step/sec: 90.4341\n",
      "INFO:tensorflow:loss = 297.476, step = 12701 (1.105 sec)\n",
      "INFO:tensorflow:global_step/sec: 90.4357\n",
      "INFO:tensorflow:loss = 34.4052, step = 12801 (1.107 sec)\n",
      "INFO:tensorflow:global_step/sec: 89.7914\n",
      "INFO:tensorflow:loss = 20.8137, step = 12901 (1.114 sec)\n",
      "INFO:tensorflow:global_step/sec: 91.3848\n",
      "INFO:tensorflow:loss = 297.525, step = 13001 (1.094 sec)\n",
      "INFO:tensorflow:global_step/sec: 84.6618\n",
      "INFO:tensorflow:loss = 34.4186, step = 13101 (1.180 sec)\n",
      "INFO:tensorflow:global_step/sec: 89.6934\n",
      "INFO:tensorflow:loss = 20.8061, step = 13201 (1.116 sec)\n",
      "INFO:tensorflow:global_step/sec: 89.076\n",
      "INFO:tensorflow:loss = 297.572, step = 13301 (1.121 sec)\n",
      "INFO:tensorflow:global_step/sec: 88.7482\n",
      "INFO:tensorflow:loss = 34.4312, step = 13401 (1.127 sec)\n",
      "INFO:tensorflow:global_step/sec: 90.2186\n",
      "INFO:tensorflow:loss = 20.7986, step = 13501 (1.108 sec)\n",
      "INFO:tensorflow:global_step/sec: 91.939\n",
      "INFO:tensorflow:loss = 297.617, step = 13601 (1.089 sec)\n",
      "INFO:tensorflow:global_step/sec: 89.729\n",
      "INFO:tensorflow:loss = 34.4431, step = 13701 (1.113 sec)\n",
      "INFO:tensorflow:global_step/sec: 88.0753\n",
      "INFO:tensorflow:loss = 20.7913, step = 13801 (1.135 sec)\n",
      "INFO:tensorflow:global_step/sec: 89.0488\n",
      "INFO:tensorflow:loss = 297.66, step = 13901 (1.123 sec)\n",
      "INFO:tensorflow:global_step/sec: 88.5377\n",
      "INFO:tensorflow:loss = 34.4542, step = 14001 (1.129 sec)\n",
      "INFO:tensorflow:global_step/sec: 94.5694\n",
      "INFO:tensorflow:loss = 20.7841, step = 14101 (1.058 sec)\n",
      "INFO:tensorflow:global_step/sec: 89.0539\n",
      "INFO:tensorflow:loss = 297.702, step = 14201 (1.123 sec)\n",
      "INFO:tensorflow:global_step/sec: 85.6667\n",
      "INFO:tensorflow:loss = 34.4647, step = 14301 (1.168 sec)\n",
      "INFO:tensorflow:global_step/sec: 88.2485\n",
      "INFO:tensorflow:loss = 20.777, step = 14401 (1.133 sec)\n",
      "INFO:tensorflow:global_step/sec: 91.777\n",
      "INFO:tensorflow:loss = 297.742, step = 14501 (1.089 sec)\n",
      "INFO:tensorflow:global_step/sec: 88.4123\n",
      "INFO:tensorflow:loss = 34.4745, step = 14601 (1.131 sec)\n",
      "INFO:tensorflow:global_step/sec: 90.9382\n",
      "INFO:tensorflow:loss = 20.7701, step = 14701 (1.100 sec)\n",
      "INFO:tensorflow:global_step/sec: 88.3709\n",
      "INFO:tensorflow:loss = 297.78, step = 14801 (1.131 sec)\n",
      "INFO:tensorflow:global_step/sec: 90.2934\n",
      "INFO:tensorflow:loss = 34.4838, step = 14901 (1.108 sec)\n",
      "INFO:tensorflow:Saving checkpoints for 15000 into taxi_trained/model.ckpt.\n",
      "INFO:tensorflow:Loss for final step: 26.3541.\n",
      "WARNING:tensorflow:From /usr/local/lib/python2.7/dist-packages/tensorflow/contrib/learn/python/learn/estimators/head.py:625: scalar_summary (from tensorflow.python.ops.logging_ops) is deprecated and will be removed after 2016-11-30.\n",
      "Instructions for updating:\n",
      "Please switch to tf.summary.scalar. Note that tf.summary.scalar uses the node name instead of the tag. This means that TensorFlow will automatically de-duplicate summary names based on the scope they are created in. Also, passing a tensor or list of tags to a scalar summary op is no longer supported.\n",
      "INFO:tensorflow:Starting evaluation at 2017-12-03-14:45:29\n",
      "INFO:tensorflow:Restoring parameters from taxi_trained/model.ckpt-15000\n",
      "INFO:tensorflow:Evaluation [1/100]\n",
      "INFO:tensorflow:Evaluation [2/100]\n",
      "INFO:tensorflow:Evaluation [3/100]\n",
      "INFO:tensorflow:Evaluation [4/100]\n",
      "INFO:tensorflow:Finished evaluation at 2017-12-03-14:45:30\n",
      "INFO:tensorflow:Saving dict for global step 15000: global_step = 15000, loss = 96.1191, rmse = 10.1205\n"
     ]
    },
    {
     "data": {
      "text/plain": [
       "({'global_step': 15000, 'loss': 96.119095, 'rmse': 10.120475}, [])"
      ]
     },
     "execution_count": 24,
     "metadata": {},
     "output_type": "execute_result"
    }
   ],
   "source": [
    "\n",
    "def experiment_fn(output_dir):\n",
    "    return tflearn.Experiment(\n",
    "        tflearn.LinearRegressor(feature_columns=feature_cols, model_dir=output_dir),\n",
    "        train_input_fn=get_train(),\n",
    "        eval_input_fn=get_valid(),\n",
    "        eval_metrics={\n",
    "            'rmse': tflearn.MetricSpec(\n",
    "                metric_fn=metrics.streaming_root_mean_squared_error\n",
    "            )\n",
    "        }\n",
    "    )\n",
    "\n",
    "\n",
    "shutil.rmtree('taxi_trained', ignore_errors=True) # start fresh each time\n",
    "learn_runner.run(experiment_fn, 'taxi_trained')"
   ]
  },
  {
   "cell_type": "code",
   "execution_count": 21,
   "metadata": {
    "collapsed": false
   },
   "outputs": [
    {
     "data": {
      "text/html": [
       "\n",
       "          <script src=\"/static/components/requirejs/require.js\"></script>\n",
       "          <script>\n",
       "            requirejs.config({\n",
       "              paths: {\n",
       "                base: '/static/base',\n",
       "              },\n",
       "            });\n",
       "          </script>\n",
       "          "
      ],
      "text/plain": [
       "<IPython.core.display.HTML object>"
      ]
     },
     "metadata": {},
     "output_type": "display_data"
    },
    {
     "data": {
      "text/html": [
       "<p>TensorBoard was started successfully with pid 21775. Click <a href=\"/_proxy/53484/\" target=\"_blank\">here</a> to access it.</p>"
      ]
     },
     "metadata": {},
     "output_type": "display_data"
    },
    {
     "data": {
      "text/html": [
       "<div>\n",
       "<table border=\"1\" class=\"dataframe\">\n",
       "  <thead>\n",
       "    <tr style=\"text-align: right;\">\n",
       "      <th></th>\n",
       "      <th>logdir</th>\n",
       "      <th>pid</th>\n",
       "      <th>port</th>\n",
       "    </tr>\n",
       "  </thead>\n",
       "  <tbody>\n",
       "    <tr>\n",
       "      <th>0</th>\n",
       "      <td>./taxi_trained</td>\n",
       "      <td>21769</td>\n",
       "      <td>41100</td>\n",
       "    </tr>\n",
       "    <tr>\n",
       "      <th>1</th>\n",
       "      <td>./taxi_trained</td>\n",
       "      <td>21775</td>\n",
       "      <td>53484</td>\n",
       "    </tr>\n",
       "  </tbody>\n",
       "</table>\n",
       "</div>"
      ],
      "text/plain": [
       "           logdir    pid   port\n",
       "0  ./taxi_trained  21769  41100\n",
       "1  ./taxi_trained  21775  53484"
      ]
     },
     "execution_count": 21,
     "metadata": {},
     "output_type": "execute_result"
    }
   ],
   "source": [
    "TensorBoard().start('./taxi_trained')\n",
    "TensorBoard().list()"
   ]
  },
  {
   "cell_type": "code",
   "execution_count": null,
   "metadata": {
    "collapsed": true
   },
   "outputs": [],
   "source": []
  }
 ],
 "metadata": {
  "kernelspec": {
   "display_name": "Python 2",
   "language": "python",
   "name": "python2"
  },
  "language_info": {
   "codemirror_mode": {
    "name": "ipython",
    "version": 2
   },
   "file_extension": ".py",
   "mimetype": "text/x-python",
   "name": "python",
   "nbconvert_exporter": "python",
   "pygments_lexer": "ipython2",
   "version": "2.7.12"
  }
 },
 "nbformat": 4,
 "nbformat_minor": 2
}
